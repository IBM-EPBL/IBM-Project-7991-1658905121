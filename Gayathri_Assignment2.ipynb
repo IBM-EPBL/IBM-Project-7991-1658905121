{
  "nbformat": 4,
  "nbformat_minor": 0,
  "metadata": {
    "colab": {
      "provenance": []
    },
    "kernelspec": {
      "name": "python3",
      "display_name": "Python 3"
    },
    "language_info": {
      "name": "python"
    }
  },
  "cells": [
    {
      "cell_type": "markdown",
      "source": [
        "### 1. Build a python code, Assume u get temperature and humidity values(generated with random function to a variable) and a write a condition to continuously detect alarm in case of high temperature.\n"
      ],
      "metadata": {
        "id": "YSukbf3_3wOZ"
      }
    },
    {
      "cell_type": "code",
      "execution_count": 1,
      "metadata": {
        "id": "GqCqqU_-3XKA"
      },
      "outputs": [],
      "source": [
        "import random"
      ]
    },
    {
      "cell_type": "code",
      "source": [
        "temperature=random.randint(1,100)\n",
        "humidity=random.randint(1,50)\n",
        "print(temperature)\n",
        "print(humidity)"
      ],
      "metadata": {
        "colab": {
          "base_uri": "https://localhost:8080/"
        },
        "id": "KeDQL9WR3i3n",
        "outputId": "8a77f09a-8dc4-41c4-f897-702442678c36"
      },
      "execution_count": 3,
      "outputs": [
        {
          "output_type": "stream",
          "name": "stdout",
          "text": [
            "37\n",
            "23\n"
          ]
        }
      ]
    },
    {
      "cell_type": "code",
      "source": [
        "if((temperature<45)&(humidity<35)):\n",
        "    print(\"Temperature is normal\")\n",
        "    print(\"Humidity is normal\")\n",
        "elif((temperature>45)&(humidity<35)):\n",
        "    print(\"Temperature is high\")\n",
        "    print(\"Humidity is low\")\n",
        "elif((temperature<45)&(humidity>35)):\n",
        "    print(\"Temperature is low\")\n",
        "    print(\"Humidity is high\")\n",
        "elif((temperature>45)&(humidity>35)):\n",
        "    print(\"Temperature is high\")\n",
        "    print(\"Humidity is high\")\n",
        "else:\n",
        "    print(\"Temperature is very low\")\n",
        "    print(\"Humidity is very low\")\n",
        "    print(\"Alarm off\")"
      ],
      "metadata": {
        "colab": {
          "base_uri": "https://localhost:8080/"
        },
        "id": "3VOzn1qT3qQ3",
        "outputId": "7c6ed736-9485-4add-b4e7-dd789d6a0082"
      },
      "execution_count": 4,
      "outputs": [
        {
          "output_type": "stream",
          "name": "stdout",
          "text": [
            "Temperature is normal\n",
            "Humidity is normal\n"
          ]
        }
      ]
    }
  ]
}